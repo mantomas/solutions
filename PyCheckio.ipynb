{
 "cells": [
  {
   "cell_type": "markdown",
   "id": "64bfcd2f",
   "metadata": {},
   "source": [
    "### Morse decoder\n",
    "The message will consist of words with 3 spaces between them and 1 space between each letter of each word.\n",
    "If the decrypted text starts with a letter then you'll have to print this letter in uppercase."
   ]
  },
  {
   "cell_type": "code",
   "execution_count": 3,
   "id": "b18fc150",
   "metadata": {},
   "outputs": [
    {
     "name": "stdout",
     "output_type": "stream",
     "text": [
      "First solution:  It was a good day\n",
      "Second solution:  It was a good day\n"
     ]
    }
   ],
   "source": [
    "MORSE = {'.-':    'a', '-...':  'b', '-.-.':  'c',\n",
    "         '-..':   'd', '.':     'e', '..-.':  'f',\n",
    "         '--.':   'g', '....':  'h', '..':    'i',\n",
    "         '.---':  'j', '-.-':   'k', '.-..':  'l',\n",
    "         '--':    'm', '-.':    'n', '---':   'o',\n",
    "         '.--.':  'p', '--.-':  'q', '.-.':   'r',\n",
    "         '...':   's', '-':     't', '..-':   'u',\n",
    "         '...-':  'v', '.--':   'w', '-..-':  'x',\n",
    "         '-.--':  'y', '--..':  'z', '-----': '0',\n",
    "         '.----': '1', '..---': '2', '...--': '3',\n",
    "         '....-': '4', '.....': '5', '-....': '6',\n",
    "         '--...': '7', '---..': '8', '----.': '9'\n",
    "         }\n",
    "\n",
    "def morse_decoder_first(code):\n",
    "    words = list(code.split(\"   \")) # separating words\n",
    "    words_translated = []\n",
    "    for word in words:              # translate from morse to alpha\n",
    "        mezi = [MORSE[letter] for letter in word.split(\" \")]\n",
    "        words_translated.append(mezi)\n",
    "    words_joined = []\n",
    "    for item in words_translated:   \n",
    "        word = \"\"\n",
    "        for letter in item:\n",
    "            word += letter\n",
    "        words_joined.append(word)\n",
    "\n",
    "    return \" \".join(words_joined).capitalize()\n",
    "\n",
    "def morse_decoder_second(code):\n",
    "    words = list(code.split(\"   \"))\n",
    "    return \" \".join(\n",
    "        \"\".join(MORSE[letter] for letter in word.split(\" \")) for word in words\n",
    "    ).capitalize()\n",
    "\n",
    "if __name__ == '__main__':\n",
    "    print(\"First solution: \", morse_decoder_first('.. -   .-- .- ...   .-   --. --- --- -..   -.. .- -.--'))\n",
    "    print(\"Second solution: \", morse_decoder_second('.. -   .-- .- ...   .-   --. --- --- -..   -.. .- -.--'))"
   ]
  },
  {
   "cell_type": "markdown",
   "id": "4dd96f68",
   "metadata": {},
   "source": [
    "### Frequency sort"
   ]
  },
  {
   "cell_type": "code",
   "execution_count": 2,
   "id": "ddf6829e",
   "metadata": {},
   "outputs": [
    {
     "name": "stdout",
     "output_type": "stream",
     "text": [
      "[1, 1, 1, 2, 2, 3, 3, 4, 4, 5, 7, 9]\n"
     ]
    }
   ],
   "source": [
    "def frequency_sort(items):\n",
    "    # minus sign in items.count = negative value, so it revert sort func\n",
    "    return sorted(items, key=lambda x: (-items.count(x), items.index(x)))\n",
    "\n",
    "items = [1,2,3,1,2,3,4,5,4,1,7,9]\n",
    "print(frequency_sort(items))"
   ]
  },
  {
   "cell_type": "markdown",
   "id": "542adb4b",
   "metadata": {},
   "source": [
    "### Nearest value\n",
    "Find the nearest value to the given one. If 2 numbers are at the same distance, you need to choose the smallest one."
   ]
  },
  {
   "cell_type": "code",
   "execution_count": 11,
   "id": "fca386ac",
   "metadata": {},
   "outputs": [
    {
     "name": "stdout",
     "output_type": "stream",
     "text": [
      "10\n"
     ]
    }
   ],
   "source": [
    "def nearest_value(values: set, one: int) -> int:\n",
    "    if one in values:\n",
    "        return one \n",
    "    else:\n",
    "        nearest = ([])\n",
    "        distance = abs(one - next(iter(values)))\n",
    "        for i in values:\n",
    "            if abs(one - i) < distance:\n",
    "                distance = abs(one - i)\n",
    "                nearest = ([i])\n",
    "            elif abs(one - i) == distance:\n",
    "                nearest.append(i)\n",
    "            else:\n",
    "                pass\n",
    "        return min(nearest)\n",
    "    \n",
    "print(nearest_value({4, 7, 10, 11, 12, 17}, 9))"
   ]
  },
  {
   "cell_type": "markdown",
   "id": "c34cceee",
   "metadata": {},
   "source": [
    "### Sort by extension\n",
    "You are given a list of files. You need to sort this list by the file extension. The files with the same extension should be sorted by name."
   ]
  },
  {
   "cell_type": "code",
   "execution_count": 30,
   "id": "667ce211",
   "metadata": {},
   "outputs": [
    {
     "name": "stdout",
     "output_type": "stream",
     "text": [
      "['.bat', '1.aa', '1.bat', '2.bat', '1.cad']\n"
     ]
    }
   ],
   "source": [
    "from typing import List\n",
    "\n",
    "def sort_by_ext(files: List[str]) -> List[str]:\n",
    "    withExtension = {}\n",
    "    noExtension = []\n",
    "    files = sorted(files)   # sort files alphabeticaly firs\n",
    "    for file in files:\n",
    "        last_dot = file.rfind(\".\")    # positon of last dot in file name\n",
    "        if file == file[last_dot:]:       # firts part, files with no extension\n",
    "            noExtension.append(file)\n",
    "        else:                       # files with extension\n",
    "            withExtension.update({file : file[last_dot:]})\n",
    "    # at the end join sorted no ext. files with others sorted by extension\n",
    "    return sorted(noExtension) + sorted(withExtension.keys(), key=withExtension.__getitem__)\n",
    "\n",
    "print(sort_by_ext(['1.cad', '2.bat', '1.aa', '.bat', '1.bat'])) #['.bat', '1.aa', '1.bat', '2.bat', '1.cad']"
   ]
  },
  {
   "cell_type": "markdown",
   "id": "f1418b68",
   "metadata": {},
   "source": [
    "### Words order\n",
    "You have a text and a list of words. You need to check if the words in a list appear in the same order as in the given text.\n",
    "- a word from the list is not in the text - your function should return False;\n",
    "- any word can appear more than once in a text - use only the first one;\n",
    "- two words in the given list are the same - your function should return False;\n",
    "- the condition is case sensitive, which means 'hi' and 'Hi' are two different words;\n",
    "- the text includes only English letters and spaces.\n"
   ]
  },
  {
   "cell_type": "code",
   "execution_count": 32,
   "id": "a7d63035",
   "metadata": {},
   "outputs": [
    {
     "name": "stdout",
     "output_type": "stream",
     "text": [
      "True\n",
      "False\n",
      "False\n"
     ]
    }
   ],
   "source": [
    "def words_order(text: str, words: list) -> bool:\n",
    "    for word in words:\n",
    "        if words.count(word) > 1:\n",
    "            return False\n",
    "    step_by_step = text.split()\n",
    "    for word in words:\n",
    "        if word not in step_by_step:\n",
    "            return False\n",
    "        else:\n",
    "            step_by_step = step_by_step[step_by_step.index(word)+1:]\n",
    "    return True\n",
    "\n",
    "print(words_order('hi world im here', ['world', 'here']))  # True\n",
    "print(words_order('hi world im here', ['here', 'world']))  # False\n",
    "print(words_order('hi world im here', ['world', 'here', 'hi'])) # False"
   ]
  },
  {
   "cell_type": "markdown",
   "id": "cc804604",
   "metadata": {},
   "source": [
    "### Lightbulb intro\n",
    "There is a light bulb, which by default is off, and a button, by pressing which the light bulb switches its state. This means that if the light bulb is off and the button is pressed, the light turns on, and if you press it again, it turns off. The function input is an array of datetime objects - this is the date and time of pressing the button. Your task is to determine how long the light bulb has been turned on."
   ]
  },
  {
   "cell_type": "code",
   "execution_count": 33,
   "id": "9a83494e",
   "metadata": {},
   "outputs": [
    {
     "name": "stdout",
     "output_type": "stream",
     "text": [
      "1220\n"
     ]
    }
   ],
   "source": [
    "from datetime import datetime\n",
    "from typing import List\n",
    "\n",
    "def sum_light(els: List[datetime]) -> int:\n",
    "    light = 0.0\n",
    "    offs = els[1::2]\n",
    "    ons = els[::2]\n",
    "    for i in offs:\n",
    "        light += i.timestamp() - ons[offs.index(i)].timestamp()\n",
    "    return int(light)\n",
    "\n",
    "print(sum_light([\n",
    "        datetime(2015, 1, 12, 10, 0 , 0),\n",
    "        datetime(2015, 1, 12, 10, 10 , 10),\n",
    "        datetime(2015, 1, 12, 11, 0 , 0),\n",
    "        datetime(2015, 1, 12, 11, 10 , 10),\n",
    "    ])) #  expected result 1220"
   ]
  },
  {
   "cell_type": "code",
   "execution_count": null,
   "id": "63a7faaa",
   "metadata": {},
   "outputs": [],
   "source": []
  }
 ],
 "metadata": {
  "kernelspec": {
   "display_name": "Python 3",
   "language": "python",
   "name": "python3"
  },
  "language_info": {
   "codemirror_mode": {
    "name": "ipython",
    "version": 3
   },
   "file_extension": ".py",
   "mimetype": "text/x-python",
   "name": "python",
   "nbconvert_exporter": "python",
   "pygments_lexer": "ipython3",
   "version": "3.8.10"
  }
 },
 "nbformat": 4,
 "nbformat_minor": 5
}
