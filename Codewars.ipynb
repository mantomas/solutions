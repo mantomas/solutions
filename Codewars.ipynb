{
 "cells": [
  {
   "cell_type": "markdown",
   "id": "f457be9e",
   "metadata": {},
   "source": [
    "### Who likes it?\n",
    "Implement the function likes which takes an array containing the names of people that like an item. It must return the display text as shown in the examples:  \n",
    "```python\n",
    "likes([]) # must be \"no one likes this\"\n",
    "likes([\"Peter\"]) # must be \"Peter likes this\"\n",
    "likes([\"Jacob\", \"Alex\"]) # must be \"Jacob and Alex like this\"\n",
    "likes([\"Max\", \"John\", \"Mark\"]) # must be \"Max, John and Mark like this\"\n",
    "likes([\"Alex\", \"Jacob\", \"Mark\", \"Max\"]) # must be \"Alex, Jacob and 2 others like this\"\n",
    "```\n",
    "For 4 or more names, the number in and 2 others simply increases."
   ]
  },
  {
   "cell_type": "code",
   "execution_count": 1,
   "id": "46f34e89",
   "metadata": {},
   "outputs": [
    {
     "name": "stdout",
     "output_type": "stream",
     "text": [
      "Alex, Jacob and 3 others like this\n"
     ]
    }
   ],
   "source": [
    "def likes(names):\n",
    "    if not names:\n",
    "        return \"no one likes this\"\n",
    "    elif len(names) == 1:\n",
    "        return f\"{names[0]} likes this\"\n",
    "    elif len(names) == 2:\n",
    "        return f\"{names[0]} and {names[1]} like this\"\n",
    "    elif len(names) == 3:\n",
    "        return f\"{names[0]}, {names[1]} and {names[2]} like this\"\n",
    "    else:\n",
    "        return f\"{names[0]}, {names[1]} and {len(names) - 2} others like this\"\n",
    "    \n",
    "print(likes([\"Alex\", \"Jacob\", \"Mark\", \"Max\", \"Pete\"])) # must be \"Alex, Jacob and 3 others like this\""
   ]
  },
  {
   "cell_type": "markdown",
   "id": "40f21890",
   "metadata": {},
   "source": [
    "### Printer errors\n",
    "The colors used by the printer are recorded in a control string. For example a \"good\" control string would be `aaabbbbhaijjjm` meaning that the printer used three times color a, four times color b, one time color h then one time color a...  \n",
    "Sometimes there are problems: lack of colors, technical malfunction and a \"bad\" control string is produced e.g. `aaaxbbbbyyhwawiwjjjwwm` with letters not from `a` to `m`.  \n",
    "You have to write a function `printer_error` which given a string will return the error rate of the printer as a string representing a rational whose numerator is the number of errors and the denominator the length of the control string. Don't reduce this fraction to a simpler expression."
   ]
  },
  {
   "cell_type": "code",
   "execution_count": 2,
   "id": "08189ec9",
   "metadata": {},
   "outputs": [
    {
     "name": "stdout",
     "output_type": "stream",
     "text": [
      "8/22\n"
     ]
    }
   ],
   "source": [
    "def printer_error(s):\n",
    "    err = 0\n",
    "    good = \"abcdefghijklm\"\n",
    "    for char in s:\n",
    "        if char not in good:\n",
    "            err += 1\n",
    "    return f\"{err}/{len(s)}\"\n",
    "\n",
    "s=\"aaaxbbbbyyhwawiwjjjwwm\"\n",
    "print(printer_error(s)) # should be \"8/22\""
   ]
  },
  {
   "cell_type": "code",
   "execution_count": null,
   "id": "033c4827",
   "metadata": {},
   "outputs": [],
   "source": []
  }
 ],
 "metadata": {
  "kernelspec": {
   "display_name": "Python 3",
   "language": "python",
   "name": "python3"
  },
  "language_info": {
   "codemirror_mode": {
    "name": "ipython",
    "version": 3
   },
   "file_extension": ".py",
   "mimetype": "text/x-python",
   "name": "python",
   "nbconvert_exporter": "python",
   "pygments_lexer": "ipython3",
   "version": "3.8.10"
  }
 },
 "nbformat": 4,
 "nbformat_minor": 5
}
